{
 "cells": [
  {
   "cell_type": "code",
   "execution_count": 1,
   "metadata": {
    "collapsed": true
   },
   "outputs": [],
   "source": [
    "import numpy as np"
   ]
  },
  {
   "cell_type": "code",
   "execution_count": 5,
   "metadata": {
    "collapsed": false
   },
   "outputs": [
    {
     "name": "stdout",
     "output_type": "stream",
     "text": [
      "a= [0 1 2 3 4]\n",
      "b= [0 1 2 3 4]\n",
      "c= [0 1 2 3 4]\n",
      "d= [0.         1.57079633 3.14159265 4.71238898 6.28318531]\n"
     ]
    }
   ],
   "source": [
    "#生成数组方式\n",
    "a = np.array([0, 1, 2, 3, 4])\n",
    "b = np.array((0, 1, 2, 3, 4))\n",
    "c = np.arange(5)\n",
    "d = np.linspace(0, 2*np.pi, 5)\n",
    "\n",
    "print(\"a=\",a)\n",
    "print(\"b=\",b)\n",
    "print(\"c=\",c)\n",
    "print(\"d=\",d)"
   ]
  },
  {
   "cell_type": "code",
   "execution_count": 7,
   "metadata": {
    "collapsed": false
   },
   "outputs": [
    {
     "name": "stdout",
     "output_type": "stream",
     "text": [
      "a= [[11 12 13 14 15]\n",
      " [16 17 18 19 20]\n",
      " [21 22 23 24 25]\n",
      " [26 27 28 29 30]\n",
      " [31 32 33 34 35]]\n",
      "24\n"
     ]
    }
   ],
   "source": [
    "a = np.array([[11, 12, 13, 14, 15],\n",
    "              [16, 17, 18, 19, 20],\n",
    "              [21, 22, 23, 24, 25],\n",
    "              [26, 27, 28 ,29, 30],\n",
    "              [31, 32, 33, 34, 35]])\n",
    "print(\"a=\",a)\n",
    "print(a[2,3])"
   ]
  },
  {
   "cell_type": "code",
   "execution_count": 8,
   "metadata": {
    "collapsed": false
   },
   "outputs": [
    {
     "name": "stdout",
     "output_type": "stream",
     "text": [
      "[12 13 14]\n",
      "[16 21 26]\n",
      "[[11 13 15]\n",
      " [21 23 25]\n",
      " [31 33 35]]\n",
      "[12 17 22 27 32]\n"
     ]
    }
   ],
   "source": [
    "#数组的切片\n",
    "print(a[0, 1:4]) # >>>[12 13 14]\n",
    "print(a[1:4, 0]) # >>>[16 21 26]\n",
    "#所有行列，行步长为2，列步长为2\n",
    "print(a[::2,::2]) # >>>[[11 13 15]\n",
    "                  #     [21 23 25]\n",
    "                  #     [31 33 35]]\n",
    "print(a[:, 1]) # >>>[12 17 22 27 32]"
   ]
  },
  {
   "cell_type": "code",
   "execution_count": 9,
   "metadata": {
    "collapsed": false
   },
   "outputs": [
    {
     "name": "stdout",
     "output_type": "stream",
     "text": [
      "<class 'numpy.ndarray'>\n",
      "int32\n",
      "25\n",
      "(5, 5)\n",
      "4\n",
      "2\n",
      "100\n"
     ]
    }
   ],
   "source": [
    "a = np.array([[11, 12, 13, 14, 15],\n",
    "              [16, 17, 18, 19, 20],\n",
    "              [21, 22, 23, 24, 25],\n",
    "              [26, 27, 28 ,29, 30],\n",
    "              [31, 32, 33, 34, 35]])\n",
    "print(type(a)) # >>><class 'numpy.ndarray'>\n",
    "print(a.dtype) # >>>int32\n",
    "print(a.size) # >>>25\n",
    "print(a.shape) # >>>(5, 5)\n",
    "#itemsize属性是每个项占用的字节数，int32就是32除以8\n",
    "print(a.itemsize) # >>>4\n",
    "#ndim 属性是数组的维数\n",
    "print(a.ndim) # >>>2\n",
    "#nbytes 属性是数组中的所有数据消耗掉的字节数\n",
    "print(a.nbytes) # >>>100"
   ]
  },
  {
   "cell_type": "code",
   "execution_count": 12,
   "metadata": {
    "collapsed": false
   },
   "outputs": [
    {
     "name": "stdout",
     "output_type": "stream",
     "text": [
      "[[ 0  1  2  3  4]\n",
      " [ 5  6  7  8  9]\n",
      " [10 11 12 13 14]\n",
      " [15 16 17 18 19]\n",
      " [20 21 22 23 24]]\n",
      "[[10 62  1 14  2]\n",
      " [56 79  2  1 45]\n",
      " [ 4 92  5 55 63]\n",
      " [43 35  6 53 24]\n",
      " [56  3 56 44 78]]\n",
      "[[ 10  63   3  17   6]\n",
      " [ 61  85   9   9  54]\n",
      " [ 14 103  17  68  77]\n",
      " [ 58  51  23  71  43]\n",
      " [ 76  24  78  67 102]]\n",
      "[[-10 -61   1 -11   2]\n",
      " [-51 -73   5   7 -36]\n",
      " [  6 -81   7 -42 -49]\n",
      " [-28 -19  11 -35  -5]\n",
      " [-36  18 -34 -21 -54]]\n",
      "[[   0   62    2   42    8]\n",
      " [ 280  474   14    8  405]\n",
      " [  40 1012   60  715  882]\n",
      " [ 645  560  102  954  456]\n",
      " [1120   63 1232 1012 1872]]\n",
      "[[0.         0.01612903 2.         0.21428571 2.        ]\n",
      " [0.08928571 0.07594937 3.5        8.         0.2       ]\n",
      " [2.5        0.11956522 2.4        0.23636364 0.22222222]\n",
      " [0.34883721 0.45714286 2.83333333 0.33962264 0.79166667]\n",
      " [0.35714286 7.         0.39285714 0.52272727 0.30769231]]\n",
      "[[  0   1   4   9  16]\n",
      " [ 25  36  49  64  81]\n",
      " [100 121 144 169 196]\n",
      " [225 256 289 324 361]\n",
      " [400 441 484 529 576]]\n",
      "[[ True  True False  True False]\n",
      " [ True  True False False  True]\n",
      " [False  True False  True  True]\n",
      " [ True  True False  True  True]\n",
      " [ True False  True  True  True]]\n",
      "[[False False  True False  True]\n",
      " [False False  True  True False]\n",
      " [ True False  True False False]\n",
      " [False False  True False False]\n",
      " [False  True False False False]]\n",
      "[[ 417  380  254  446  555]\n",
      " [1262 1735  604 1281 1615]\n",
      " [2107 3090  954 2116 2675]\n",
      " [2952 4445 1304 2951 3735]\n",
      " [3797 5800 1654 3786 4795]]\n"
     ]
    }
   ],
   "source": [
    "#设置数组的值\n",
    "a = np.arange(25)\n",
    "#指定数组维度\n",
    "a = a.reshape((5, 5))\n",
    "print(a)\n",
    "b = np.array([10, 62, 1, 14, 2, 56, 79, 2, 1, 45,\n",
    "              4, 92, 5, 55, 63, 43, 35, 6, 53, 24,\n",
    "              56, 3, 56, 44, 78])\n",
    "b = b.reshape((5,5))\n",
    "print(b)\n",
    "print(a + b)\n",
    "print(a - b)\n",
    "print(a * b)\n",
    "print(a / b)\n",
    "print(a ** 2)\n",
    "print(a < b) \n",
    "print(a > b)\n",
    "\n",
    "print(a.dot(b))"
   ]
  },
  {
   "cell_type": "code",
   "execution_count": 13,
   "metadata": {
    "collapsed": false
   },
   "outputs": [
    {
     "name": "stdout",
     "output_type": "stream",
     "text": [
      "[0 1 2 3 4 5 6 7 8 9]\n",
      "45\n",
      "0\n",
      "9\n",
      "[ 0  1  3  6 10 15 21 28 36 45]\n"
     ]
    }
   ],
   "source": [
    "a = np.arange(10)\n",
    "print(a)\n",
    "print(a.sum()) # >>>45\n",
    "print(a.min()) # >>>0\n",
    "print(a.max()) # >>>9\n",
    "#元素累加列表\n",
    "#首先将第一个元素和第二个元素相加，并将计算结果存储在一个列表中，然后将该结果添加到第三个元素中，然后再将该结果存储在一个列表中。\n",
    "print(a.cumsum()) # >>>[ 0  1  3  6 10 15 21 28 36 45]"
   ]
  },
  {
   "cell_type": "code",
   "execution_count": 14,
   "metadata": {
    "collapsed": false
   },
   "outputs": [
    {
     "name": "stdout",
     "output_type": "stream",
     "text": [
      "[ 0 10 20 30 40 50 60 70 80 90]\n",
      "[10 50 90]\n"
     ]
    }
   ],
   "source": [
    "#花式索引\n",
    "a = np.arange(0, 100, 10)\n",
    "#设定要获取的值得位置\n",
    "indices = [1, 5, -1]\n",
    "b = a[indices]\n",
    "print(a) # >>>[ 0 10 20 30 40 50 60 70 80 90]\n",
    "print(b) # >>>[10 50 90]"
   ]
  },
  {
   "cell_type": "code",
   "execution_count": 16,
   "metadata": {
    "collapsed": false
   },
   "outputs": [
    {
     "name": "stdout",
     "output_type": "stream",
     "text": [
      "[0.         0.12822827 0.25645654 0.38468481 0.51291309 0.64114136\n",
      " 0.76936963 0.8975979  1.02582617 1.15405444 1.28228272 1.41051099\n",
      " 1.53873926 1.66696753 1.7951958  1.92342407 2.05165235 2.17988062\n",
      " 2.30810889 2.43633716 2.56456543 2.6927937  2.82102197 2.94925025\n",
      " 3.07747852 3.20570679 3.33393506 3.46216333 3.5903916  3.71861988\n",
      " 3.84684815 3.97507642 4.10330469 4.23153296 4.35976123 4.48798951\n",
      " 4.61621778 4.74444605 4.87267432 5.00090259 5.12913086 5.25735913\n",
      " 5.38558741 5.51381568 5.64204395 5.77027222 5.89850049 6.02672876\n",
      " 6.15495704 6.28318531]\n",
      "[ 0.00000000e+00  1.27877162e-01  2.53654584e-01  3.75267005e-01\n",
      "  4.90717552e-01  5.98110530e-01  6.95682551e-01  7.81831482e-01\n",
      "  8.55142763e-01  9.14412623e-01  9.58667853e-01  9.87181783e-01\n",
      "  9.99486216e-01  9.95379113e-01  9.74927912e-01  9.38468422e-01\n",
      "  8.86599306e-01  8.20172255e-01  7.40277997e-01  6.48228395e-01\n",
      "  5.45534901e-01  4.33883739e-01  3.15108218e-01  1.91158629e-01\n",
      "  6.40702200e-02 -6.40702200e-02 -1.91158629e-01 -3.15108218e-01\n",
      " -4.33883739e-01 -5.45534901e-01 -6.48228395e-01 -7.40277997e-01\n",
      " -8.20172255e-01 -8.86599306e-01 -9.38468422e-01 -9.74927912e-01\n",
      " -9.95379113e-01 -9.99486216e-01 -9.87181783e-01 -9.58667853e-01\n",
      " -9.14412623e-01 -8.55142763e-01 -7.81831482e-01 -6.95682551e-01\n",
      " -5.98110530e-01 -4.90717552e-01 -3.75267005e-01 -2.53654584e-01\n",
      " -1.27877162e-01 -2.44929360e-16]\n"
     ]
    }
   ],
   "source": [
    "#布尔屏蔽\n",
    "import matplotlib.pyplot as plt\n",
    "\n",
    "a = np.linspace(0, 2 * np.pi, 50)\n",
    "b = np.sin(a)\n",
    "print(a)\n",
    "print(b)"
   ]
  },
  {
   "cell_type": "code",
   "execution_count": 18,
   "metadata": {
    "collapsed": false
   },
   "outputs": [
    {
     "data": {
      "image/png": "[encoded data removed]",
      "text/plain": [
       "<matplotlib.figure.Figure at 0x23e830c1898>"
      ]
     },
     "metadata": {},
     "output_type": "display_data"
    }
   ],
   "source": [
    "plt.plot(a,b)\n",
    "plt.show()"
   ]
  },
  {
   "cell_type": "code",
   "execution_count": 19,
   "metadata": {
    "collapsed": false
   },
   "outputs": [
    {
     "data": {
      "image/png": "[encoded data removed]",
      "text/plain": [
       "<matplotlib.figure.Figure at 0x23e85354048>"
      ]
     },
     "metadata": {},
     "output_type": "display_data"
    }
   ],
   "source": [
    "mask = b >= 0\n",
    "plt.plot(a[mask], b[mask], 'bo')\n",
    "plt.show()"
   ]
  },
  {
   "cell_type": "code",
   "execution_count": 20,
   "metadata": {
    "collapsed": false
   },
   "outputs": [
    {
     "data": {
      "image/png": "[encoded data removed]",
      "text/plain": [
       "<matplotlib.figure.Figure at 0x23e8638d438>"
      ]
     },
     "metadata": {},
     "output_type": "display_data"
    }
   ],
   "source": [
    "mask = (b >= 0) & (a <= np.pi / 2)\n",
    "plt.plot(a[mask], b[mask], 'go')\n",
    "plt.show()"
   ]
  },
  {
   "cell_type": "code",
   "execution_count": 21,
   "metadata": {
    "collapsed": false
   },
   "outputs": [
    {
     "data": {
      "image/png": "[encoded data removed]",
      "text/plain": [
       "<matplotlib.figure.Figure at 0x23e863b0588>"
      ]
     },
     "metadata": {},
     "output_type": "display_data"
    }
   ],
   "source": [
    "#合并显示\n",
    "plt.plot(a,b)\n",
    "mask = b >= 0\n",
    "plt.plot(a[mask], b[mask], 'bo')\n",
    "mask = (b >= 0) & (a <= np.pi / 2)\n",
    "plt.plot(a[mask], b[mask], 'go')\n",
    "plt.show()"
   ]
  },
  {
   "cell_type": "code",
   "execution_count": 22,
   "metadata": {
    "collapsed": false
   },
   "outputs": [
    {
     "name": "stdout",
     "output_type": "stream",
     "text": [
      "[ 0 10 20 30 40]\n",
      "[50 60 70 80 90]\n"
     ]
    }
   ],
   "source": [
    "#缺省索引\n",
    "a = np.arange(0, 100, 10)\n",
    "b = a[:5]\n",
    "c = a[a >= 50]\n",
    "print(b) # >>>[ 0 10 20 30 40]\n",
    "print(c) # >>>[50 60 70 80 90]"
   ]
  },
  {
   "cell_type": "code",
   "execution_count": 23,
   "metadata": {
    "collapsed": false
   },
   "outputs": [
    {
     "name": "stdout",
     "output_type": "stream",
     "text": [
      "(array([0, 1, 2, 3, 4], dtype=int64),)\n",
      "[5 6 7 8 9]\n"
     ]
    }
   ],
   "source": [
    "#where函数\n",
    "a = np.arange(0, 100, 10)\n",
    "b = np.where(a < 50) \n",
    "c = np.where(a >= 50)[0]\n",
    "print(b) # >>>(array([0, 1, 2, 3, 4]),)\n",
    "print(c) # >>>[5 6 7 8 9]"
   ]
  },
  {
   "cell_type": "code",
   "execution_count": null,
   "metadata": {
    "collapsed": true
   },
   "outputs": [],
   "source": []
  }
 ],
 "metadata": {
  "anaconda-cloud": {},
  "kernelspec": {
   "display_name": "Python [default]",
   "language": "python",
   "name": "python3"
  },
  "language_info": {
   "codemirror_mode": {
    "name": "ipython",
    "version": 3
   },
   "file_extension": ".py",
   "mimetype": "text/x-python",
   "name": "python",
   "nbconvert_exporter": "python",
   "pygments_lexer": "ipython3",
   "version": "3.5.2"
  }
 },
 "nbformat": 4,
 "nbformat_minor": 1
}
